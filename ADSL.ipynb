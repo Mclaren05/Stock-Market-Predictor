{
 "cells": [
  {
   "cell_type": "code",
   "execution_count": 1,
   "metadata": {
    "colab": {
     "base_uri": "https://localhost:8080/",
     "height": 302
    },
    "colab_type": "code",
    "id": "3uE33Yx8Cvly",
    "outputId": "5e719aa8-b5f9-4898-ddde-eef03091351a"
   },
   "outputs": [
    {
     "name": "stdout",
     "output_type": "stream",
     "text": [
      "Requirement already satisfied: quandl in c:\\users\\aksha\\anaconda3\\lib\\site-packages (3.5.2)Note: you may need to restart the kernel to use updated packages.\n",
      "Requirement already satisfied: requests>=2.7.0 in c:\\users\\aksha\\anaconda3\\lib\\site-packages (from quandl) (2.24.0)\n",
      "Requirement already satisfied: pandas>=0.14 in c:\\users\\aksha\\anaconda3\\lib\\site-packages (from quandl) (1.0.5)\n",
      "Requirement already satisfied: six in c:\\users\\aksha\\anaconda3\\lib\\site-packages (from quandl) (1.15.0)\n",
      "Requirement already satisfied: numpy>=1.8 in c:\\users\\aksha\\anaconda3\\lib\\site-packages (from quandl) (1.18.5)\n",
      "Requirement already satisfied: more-itertools in c:\\users\\aksha\\anaconda3\\lib\\site-packages (from quandl) (8.4.0)\n",
      "Requirement already satisfied: inflection>=0.3.1 in c:\\users\\aksha\\anaconda3\\lib\\site-packages (from quandl) (0.5.1)\n",
      "\n",
      "Requirement already satisfied: python-dateutil in c:\\users\\aksha\\anaconda3\\lib\\site-packages (from quandl) (2.8.1)\n",
      "Requirement already satisfied: idna<3,>=2.5 in c:\\users\\aksha\\anaconda3\\lib\\site-packages (from requests>=2.7.0->quandl) (2.10)\n",
      "Requirement already satisfied: chardet<4,>=3.0.2 in c:\\users\\aksha\\anaconda3\\lib\\site-packages (from requests>=2.7.0->quandl) (3.0.4)\n",
      "Requirement already satisfied: certifi>=2017.4.17 in c:\\users\\aksha\\anaconda3\\lib\\site-packages (from requests>=2.7.0->quandl) (2020.6.20)\n",
      "Requirement already satisfied: urllib3!=1.25.0,!=1.25.1,<1.26,>=1.21.1 in c:\\users\\aksha\\anaconda3\\lib\\site-packages (from requests>=2.7.0->quandl) (1.25.9)\n",
      "Requirement already satisfied: pytz>=2017.2 in c:\\users\\aksha\\anaconda3\\lib\\site-packages (from pandas>=0.14->quandl) (2020.1)\n"
     ]
    }
   ],
   "source": [
    "pip install quandl"
   ]
  },
  {
   "cell_type": "code",
   "execution_count": 2,
   "metadata": {
    "colab": {},
    "colab_type": "code",
    "id": "HXOFysI8C2R8"
   },
   "outputs": [],
   "source": [
    "import quandl\n",
    "import numpy as np"
   ]
  },
  {
   "cell_type": "code",
   "execution_count": 3,
   "metadata": {
    "colab": {},
    "colab_type": "code",
    "id": "GdRtXGbfC2U9"
   },
   "outputs": [],
   "source": [
    "quandl.ApiConfig.api_key = 'FZCdiqtsRgoffcyx2XqB'"
   ]
  },
  {
   "cell_type": "code",
   "execution_count": 4,
   "metadata": {
    "colab": {
     "base_uri": "https://localhost:8080/",
     "height": 168
    },
    "colab_type": "code",
    "id": "J9Yc2rmOC2X4",
    "outputId": "98ed4d37-0590-49c4-d364-4def0cdcb810"
   },
   "outputs": [
    {
     "name": "stdout",
     "output_type": "stream",
     "text": [
      "                  Open        High         Low       Close    Volume  \\\n",
      "Date                                                                   \n",
      "2010-01-01  223.830089  223.830089  223.830089  223.830089       0.0   \n",
      "2010-01-04  222.880852  227.816884  219.273751  224.494555  148933.0   \n",
      "2010-01-05  226.867647  236.360018  221.409535  222.785928   65606.0   \n",
      "2010-01-06  223.070699  226.867647  219.463599  220.128065   42102.0   \n",
      "2010-01-07  223.972475  224.921712  216.710811  218.514362   69349.0   \n",
      "\n",
      "            Adjustment Factor  Adjustment Type  \n",
      "Date                                            \n",
      "2010-01-01                NaN              NaN  \n",
      "2010-01-04                NaN              NaN  \n",
      "2010-01-05                NaN              NaN  \n",
      "2010-01-06                NaN              NaN  \n",
      "2010-01-07                NaN              NaN  \n"
     ]
    }
   ],
   "source": [
    "df = quandl.get(\"XNSE/ADSL\")\n",
    "print(df.head())"
   ]
  },
  {
   "cell_type": "code",
   "execution_count": 5,
   "metadata": {
    "colab": {
     "base_uri": "https://localhost:8080/",
     "height": 252
    },
    "colab_type": "code",
    "id": "p8CjnLmeC2a2",
    "outputId": "e982da4b-2abd-457f-a910-95924f8ee688"
   },
   "outputs": [
    {
     "name": "stdout",
     "output_type": "stream",
     "text": [
      "<class 'pandas.core.frame.DataFrame'>\n",
      "DatetimeIndex: 2347 entries, 2010-01-01 to 2018-12-31\n",
      "Data columns (total 7 columns):\n",
      " #   Column             Non-Null Count  Dtype  \n",
      "---  ------             --------------  -----  \n",
      " 0   Open               2347 non-null   float64\n",
      " 1   High               2347 non-null   float64\n",
      " 2   Low                2347 non-null   float64\n",
      " 3   Close              2347 non-null   float64\n",
      " 4   Volume             2347 non-null   float64\n",
      " 5   Adjustment Factor  3 non-null      float64\n",
      " 6   Adjustment Type    3 non-null      float64\n",
      "dtypes: float64(7)\n",
      "memory usage: 146.7 KB\n"
     ]
    }
   ],
   "source": [
    "df.info()"
   ]
  },
  {
   "cell_type": "code",
   "execution_count": 6,
   "metadata": {
    "colab": {
     "base_uri": "https://localhost:8080/",
     "height": 269
    },
    "colab_type": "code",
    "id": "WLl3aQs_C2d7",
    "outputId": "fd808349-61f9-4848-8620-832ef72a4080"
   },
   "outputs": [
    {
     "name": "stdout",
     "output_type": "stream",
     "text": [
      "                  Open        High         Low       Close    Volume\n",
      "Date                                                                \n",
      "2010-01-01  223.830089  223.830089  223.830089  223.830089       0.0\n",
      "2010-01-04  222.880852  227.816884  219.273751  224.494555  148933.0\n",
      "2010-01-05  226.867647  236.360018  221.409535  222.785928   65606.0\n",
      "2010-01-06  223.070699  226.867647  219.463599  220.128065   42102.0\n",
      "2010-01-07  223.972475  224.921712  216.710811  218.514362   69349.0\n",
      "...                ...         ...         ...         ...       ...\n",
      "2018-12-25   14.114851   14.114851   14.114851   14.114851       0.0\n",
      "2018-12-26   14.359901   14.359901   13.722772   13.820792    6162.0\n",
      "2018-12-27   13.820792   14.604950   13.820792   13.918812   12488.0\n",
      "2018-12-28   13.820792   14.212871   13.722772   13.918812    5753.0\n",
      "2018-12-31   13.771782   14.457921   13.722772   13.771782   23339.0\n",
      "\n",
      "[2347 rows x 5 columns]\n"
     ]
    }
   ],
   "source": [
    "x = df.drop(\"Adjustment Factor\",axis=1)\n",
    "y = x.drop(\"Adjustment Type\",axis=1)\n",
    "print(y)"
   ]
  },
  {
   "cell_type": "code",
   "execution_count": 7,
   "metadata": {
    "colab": {
     "base_uri": "https://localhost:8080/",
     "height": 134
    },
    "colab_type": "code",
    "id": "pUWv0VvnC2hC",
    "outputId": "fc36ce4f-de22-4dcb-81f1-dcf8c3a80664"
   },
   "outputs": [
    {
     "name": "stdout",
     "output_type": "stream",
     "text": [
      "                 Close\n",
      "Date                  \n",
      "2010-01-01  223.830089\n",
      "2010-01-04  224.494555\n",
      "2010-01-05  222.785928\n",
      "2010-01-06  220.128065\n",
      "2010-01-07  218.514362\n"
     ]
    }
   ],
   "source": [
    "y = y[['Close']]\n",
    "print(y.head())"
   ]
  },
  {
   "cell_type": "code",
   "execution_count": 8,
   "metadata": {
    "colab": {
     "base_uri": "https://localhost:8080/",
     "height": 134
    },
    "colab_type": "code",
    "id": "vJUEQhZYC2kB",
    "outputId": "6a1c4005-ece0-4bfb-c0df-d3dab4d73cf0"
   },
   "outputs": [
    {
     "name": "stdout",
     "output_type": "stream",
     "text": [
      "                Close  Prediction\n",
      "Date                             \n",
      "2018-12-25  14.114851         NaN\n",
      "2018-12-26  13.820792         NaN\n",
      "2018-12-27  13.918812         NaN\n",
      "2018-12-28  13.918812         NaN\n",
      "2018-12-31  13.771782         NaN\n"
     ]
    }
   ],
   "source": [
    "forecast = 10\n",
    "y['Prediction'] = y[['Close']].shift(-forecast)\n",
    "\n",
    "print(y.tail())"
   ]
  },
  {
   "cell_type": "code",
   "execution_count": 9,
   "metadata": {
    "colab": {
     "base_uri": "https://localhost:8080/",
     "height": 269
    },
    "colab_type": "code",
    "id": "NGeAKko_C2nH",
    "outputId": "111f3645-015b-4c9e-d746-00435294d3b8"
   },
   "outputs": [
    {
     "name": "stdout",
     "output_type": "stream",
     "text": [
      "                 Close\n",
      "Date                  \n",
      "2010-01-01  223.830089\n",
      "2010-01-04  224.494555\n",
      "2010-01-05  222.785928\n",
      "2010-01-06  220.128065\n",
      "2010-01-07  218.514362\n",
      "...                ...\n",
      "2018-12-11   12.791584\n",
      "2018-12-12   13.869802\n",
      "2018-12-13   14.359901\n",
      "2018-12-14   14.212871\n",
      "2018-12-17   14.163861\n",
      "\n",
      "[2337 rows x 1 columns]\n"
     ]
    }
   ],
   "source": [
    "w = y.drop(['Prediction'],1)\n",
    "w = w[:-forecast]\n",
    "print(w)"
   ]
  },
  {
   "cell_type": "code",
   "execution_count": 10,
   "metadata": {
    "colab": {
     "base_uri": "https://localhost:8080/",
     "height": 235
    },
    "colab_type": "code",
    "id": "_GiUPj4XC2p1",
    "outputId": "df3d15ea-00ca-47fa-e2cf-f35691e1c18d"
   },
   "outputs": [
    {
     "name": "stdout",
     "output_type": "stream",
     "text": [
      "Date\n",
      "2010-01-01    227.674499\n",
      "2010-01-04    226.772724\n",
      "2010-01-05    219.795832\n",
      "2010-01-06    228.006732\n",
      "2010-01-07    227.911808\n",
      "                 ...    \n",
      "2018-12-11     14.114851\n",
      "2018-12-12     13.820792\n",
      "2018-12-13     13.918812\n",
      "2018-12-14     13.918812\n",
      "2018-12-17     13.771782\n",
      "Name: Prediction, Length: 2337, dtype: float64\n"
     ]
    }
   ],
   "source": [
    "q=y['Prediction']\n",
    "q=q[:-forecast]\n",
    "print(q)"
   ]
  },
  {
   "cell_type": "code",
   "execution_count": 11,
   "metadata": {
    "colab": {},
    "colab_type": "code",
    "id": "2tvvF1i0C2ss"
   },
   "outputs": [],
   "source": [
    "from sklearn.svm import SVR\n",
    "from sklearn.model_selection import train_test_split"
   ]
  },
  {
   "cell_type": "code",
   "execution_count": 12,
   "metadata": {
    "colab": {},
    "colab_type": "code",
    "id": "K60JDjzZC2zN"
   },
   "outputs": [],
   "source": [
    "x_train,x_test,y_train,y_test = train_test_split(w,q,test_size =0.25)"
   ]
  },
  {
   "cell_type": "code",
   "execution_count": 13,
   "metadata": {
    "colab": {
     "base_uri": "https://localhost:8080/",
     "height": 50
    },
    "colab_type": "code",
    "id": "EPQ0C5qYC22a",
    "outputId": "9dab1689-317d-496f-aa7f-02367f1ff925"
   },
   "outputs": [
    {
     "data": {
      "text/plain": [
       "SVR(C=1000.0)"
      ]
     },
     "execution_count": 13,
     "metadata": {},
     "output_type": "execute_result"
    }
   ],
   "source": [
    "svr_rbf = SVR(kernel='rbf',C=1e3)\n",
    "svr_rbf.fit(x_train,y_train)"
   ]
  },
  {
   "cell_type": "code",
   "execution_count": 14,
   "metadata": {
    "colab": {
     "base_uri": "https://localhost:8080/",
     "height": 34
    },
    "colab_type": "code",
    "id": "3dCp_ZUyC25f",
    "outputId": "3d9467f2-f11a-4dec-fa86-95b503744b95"
   },
   "outputs": [
    {
     "name": "stdout",
     "output_type": "stream",
     "text": [
      "0.9882615682831977\n"
     ]
    }
   ],
   "source": [
    "svr_out = svr_rbf.score(x_test,y_test)\n",
    "print (svr_out)"
   ]
  },
  {
   "cell_type": "code",
   "execution_count": 15,
   "metadata": {
    "colab": {
     "base_uri": "https://localhost:8080/",
     "height": 218
    },
    "colab_type": "code",
    "id": "vDCaatMsC28y",
    "outputId": "8843196e-431f-4d86-ab4a-e923172adcfa"
   },
   "outputs": [
    {
     "name": "stdout",
     "output_type": "stream",
     "text": [
      "                Close\n",
      "Date                 \n",
      "2018-12-18  14.408911\n",
      "2018-12-19  14.408911\n",
      "2018-12-20  14.261881\n",
      "2018-12-21  13.918812\n",
      "2018-12-24  14.114851\n",
      "2018-12-25  14.114851\n",
      "2018-12-26  13.820792\n",
      "2018-12-27  13.918812\n",
      "2018-12-28  13.918812\n",
      "2018-12-31  13.771782\n"
     ]
    }
   ],
   "source": [
    "x_forecast = y.drop(['Prediction'],1)[-forecast:]\n",
    "print(x_forecast)"
   ]
  },
  {
   "cell_type": "code",
   "execution_count": 16,
   "metadata": {
    "colab": {
     "base_uri": "https://localhost:8080/",
     "height": 50
    },
    "colab_type": "code",
    "id": "3efy-jQdC3AK",
    "outputId": "8de31ce4-0f2a-4154-a360-4f773c7acee8"
   },
   "outputs": [
    {
     "name": "stdout",
     "output_type": "stream",
     "text": [
      "[14.37383738 14.37383738 14.23368015 13.90740957 14.09371519 14.09371519\n",
      " 13.81439617 13.90740957 13.90740957 13.76792553]\n"
     ]
    }
   ],
   "source": [
    "svr_prediction = svr_rbf.predict(x_forecast)\n",
    "print(svr_prediction)"
   ]
  },
  {
   "cell_type": "code",
   "execution_count": 17,
   "metadata": {
    "colab": {},
    "colab_type": "code",
    "id": "s4kG5YfTEE_R"
   },
   "outputs": [],
   "source": [
    "import matplotlib.pyplot as plt"
   ]
  },
  {
   "cell_type": "code",
   "execution_count": 18,
   "metadata": {
    "colab": {},
    "colab_type": "code",
    "id": "iYrqu7g5EFRI"
   },
   "outputs": [],
   "source": [
    "z = y['2018-11-30':]"
   ]
  },
  {
   "cell_type": "code",
   "execution_count": 19,
   "metadata": {
    "colab": {
     "base_uri": "https://localhost:8080/",
     "height": 513
    },
    "colab_type": "code",
    "id": "QLmV49UuEFbC",
    "outputId": "11122ab7-baf5-4eba-b869-20ede3127c52"
   },
   "outputs": [
    {
     "data": {
      "image/png": "[encoded data removed]",
      "text/plain": [
       "<Figure size 1152x576 with 1 Axes>"
      ]
     },
     "metadata": {
      "needs_background": "light"
     },
     "output_type": "display_data"
    }
   ],
   "source": [
    "plt.figure(figsize=(16,8))\n",
    "plt.title('ADSL')\n",
    "plt.xlabel('Days')\n",
    "plt.ylabel('Close Price INR')\n",
    "plt.plot(y['Close'])\n",
    "plt.show()"
   ]
  },
  {
   "cell_type": "code",
   "execution_count": 20,
   "metadata": {
    "colab": {
     "base_uri": "https://localhost:8080/",
     "height": 118
    },
    "colab_type": "code",
    "id": "OfxQAF_QEY-L",
    "outputId": "c4e7e8dd-0bba-4dfd-bdf6-47051a0b8890"
   },
   "outputs": [
    {
     "name": "stderr",
     "output_type": "stream",
     "text": [
      "<ipython-input-20-00284980cf73>:3: SettingWithCopyWarning: \n",
      "A value is trying to be set on a copy of a slice from a DataFrame.\n",
      "Try using .loc[row_indexer,col_indexer] = value instead\n",
      "\n",
      "See the caveats in the documentation: https://pandas.pydata.org/pandas-docs/stable/user_guide/indexing.html#returning-a-view-versus-a-copy\n",
      "  valid['Predict'] = predict\n"
     ]
    }
   ],
   "source": [
    "predict = svr_prediction\n",
    "valid = y[w.shape[0]:]\n",
    "valid['Predict'] = predict"
   ]
  },
  {
   "cell_type": "code",
   "execution_count": 21,
   "metadata": {
    "colab": {
     "base_uri": "https://localhost:8080/",
     "height": 513
    },
    "colab_type": "code",
    "id": "6U-ZtsXTEZLo",
    "outputId": "4918981a-a46d-4b13-bab7-dcefaadc07d5"
   },
   "outputs": [
    {
     "data": {
      "image/png": "[encoded data removed]",
      "text/plain": [
       "<Figure size 1152x576 with 1 Axes>"
      ]
     },
     "metadata": {
      "needs_background": "light"
     },
     "output_type": "display_data"
    }
   ],
   "source": [
    "plt.figure(figsize=(16,8))\n",
    "plt.title('ADSL')\n",
    "plt.xlabel('Days')\n",
    "plt.ylabel('Close Price INR')\n",
    "plt.plot(z['Close'])\n",
    "plt.plot(valid[['Close','Predict']])\n",
    "plt.legend(['Orig','Val','Pred'])\n",
    "plt.show()"
   ]
  },
  {
   "cell_type": "code",
   "execution_count": 22,
   "metadata": {},
   "outputs": [],
   "source": [
    "import csv"
   ]
  },
  {
   "cell_type": "code",
   "execution_count": 24,
   "metadata": {},
   "outputs": [],
   "source": [
    "with open('ADSL.csv', 'w', newline='') as file:\n",
    "    writer = csv.writer(file)\n",
    "    writer.writerows(map(lambda x: [x],svr_prediction))"
   ]
  },
  {
   "cell_type": "code",
   "execution_count": null,
   "metadata": {},
   "outputs": [],
   "source": []
  }
 ],
 "metadata": {
  "colab": {
   "name": "ADSL.ipynb",
   "provenance": []
  },
  "kernelspec": {
   "display_name": "Python 3",
   "language": "python",
   "name": "python3"
  },
  "language_info": {
   "codemirror_mode": {
    "name": "ipython",
    "version": 3
   },
   "file_extension": ".py",
   "mimetype": "text/x-python",
   "name": "python",
   "nbconvert_exporter": "python",
   "pygments_lexer": "ipython3",
   "version": "3.8.3"
  }
 },
 "nbformat": 4,
 "nbformat_minor": 1
}
