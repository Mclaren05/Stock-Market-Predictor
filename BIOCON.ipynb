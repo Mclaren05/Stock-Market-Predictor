{
 "cells": [
  {
   "cell_type": "code",
   "execution_count": 1,
   "metadata": {
    "colab": {
     "base_uri": "https://localhost:8080/",
     "height": 302
    },
    "colab_type": "code",
    "id": "BLCgCRTS9i-T",
    "outputId": "371e467e-4072-4439-c478-f18c0abe07fb"
   },
   "outputs": [
    {
     "name": "stdout",
     "output_type": "stream",
     "text": [
      "Requirement already satisfied: quandl in c:\\users\\aksha\\anaconda3\\lib\\site-packages (3.5.2)\n",
      "Requirement already satisfied: pandas>=0.14 in c:\\users\\aksha\\anaconda3\\lib\\site-packages (from quandl) (1.0.5)\n",
      "Requirement already satisfied: python-dateutil in c:\\users\\aksha\\anaconda3\\lib\\site-packages (from quandl) (2.8.1)\n",
      "Requirement already satisfied: requests>=2.7.0 in c:\\users\\aksha\\anaconda3\\lib\\site-packages (from quandl) (2.24.0)\n",
      "Requirement already satisfied: six in c:\\users\\aksha\\anaconda3\\lib\\site-packages (from quandl) (1.15.0)\n",
      "Requirement already satisfied: more-itertools in c:\\users\\aksha\\anaconda3\\lib\\site-packages (from quandl) (8.4.0)\n",
      "Requirement already satisfied: inflection>=0.3.1 in c:\\users\\aksha\\anaconda3\\lib\\site-packages (from quandl) (0.5.1)\n",
      "Requirement already satisfied: numpy>=1.8 in c:\\users\\aksha\\anaconda3\\lib\\site-packages (from quandl) (1.18.5)\n",
      "Requirement already satisfied: pytz>=2017.2 in c:\\users\\aksha\\anaconda3\\lib\\site-packages (from pandas>=0.14->quandl) (2020.1)\n",
      "Requirement already satisfied: idna<3,>=2.5 in c:\\users\\aksha\\anaconda3\\lib\\site-packages (from requests>=2.7.0->quandl) (2.10)\n",
      "Requirement already satisfied: urllib3!=1.25.0,!=1.25.1,<1.26,>=1.21.1 in c:\\users\\aksha\\anaconda3\\lib\\site-packages (from requests>=2.7.0->quandl) (1.25.9)\n",
      "Requirement already satisfied: certifi>=2017.4.17 in c:\\users\\aksha\\anaconda3\\lib\\site-packages (from requests>=2.7.0->quandl) (2020.6.20)\n",
      "Requirement already satisfied: chardet<4,>=3.0.2 in c:\\users\\aksha\\anaconda3\\lib\\site-packages (from requests>=2.7.0->quandl) (3.0.4)\n",
      "Note: you may need to restart the kernel to use updated packages.\n"
     ]
    }
   ],
   "source": [
    "pip install quandl"
   ]
  },
  {
   "cell_type": "code",
   "execution_count": 2,
   "metadata": {
    "colab": {},
    "colab_type": "code",
    "id": "6a8-Sabg9sli"
   },
   "outputs": [],
   "source": [
    "import quandl\n",
    "import numpy as np"
   ]
  },
  {
   "cell_type": "code",
   "execution_count": 3,
   "metadata": {
    "colab": {},
    "colab_type": "code",
    "id": "CDex0dW69soM"
   },
   "outputs": [],
   "source": [
    "quandl.ApiConfig.api_key = 'FZCdiqtsRgoffcyx2XqB'"
   ]
  },
  {
   "cell_type": "code",
   "execution_count": 4,
   "metadata": {
    "colab": {
     "base_uri": "https://localhost:8080/",
     "height": 168
    },
    "colab_type": "code",
    "id": "yqZKWXKO9sq1",
    "outputId": "79752434-4c9a-4620-9136-5505b2dd7b83"
   },
   "outputs": [
    {
     "name": "stdout",
     "output_type": "stream",
     "text": [
      "                 Open       High        Low      Close        Volume  \\\n",
      "Date                                                                   \n",
      "2010-01-01  41.340778  41.340778  41.340778  41.340778  0.000000e+00   \n",
      "2010-01-04  41.602855  41.992227  41.333290  41.834981  1.831902e+06   \n",
      "2010-01-05  42.216864  42.419038  41.430633  41.752614  2.912826e+06   \n",
      "2010-01-06  41.902372  43.699472  41.640295  43.549713  9.987828e+06   \n",
      "2010-01-07  43.879182  44.328456  43.145366  43.452370  9.700044e+06   \n",
      "\n",
      "            Adjustment Factor  Adjustment Type  \n",
      "Date                                            \n",
      "2010-01-01                NaN              NaN  \n",
      "2010-01-04                NaN              NaN  \n",
      "2010-01-05                NaN              NaN  \n",
      "2010-01-06                NaN              NaN  \n",
      "2010-01-07                NaN              NaN  \n"
     ]
    }
   ],
   "source": [
    "df = quandl.get(\"XNSE/BIOCON\")\n",
    "print(df.head())"
   ]
  },
  {
   "cell_type": "code",
   "execution_count": 5,
   "metadata": {
    "colab": {
     "base_uri": "https://localhost:8080/",
     "height": 252
    },
    "colab_type": "code",
    "id": "ccTWMbbh9stj",
    "outputId": "ea783c77-fc0c-46d3-8c4b-03af6c622871"
   },
   "outputs": [
    {
     "name": "stdout",
     "output_type": "stream",
     "text": [
      "<class 'pandas.core.frame.DataFrame'>\n",
      "DatetimeIndex: 2347 entries, 2010-01-01 to 2018-12-31\n",
      "Data columns (total 7 columns):\n",
      " #   Column             Non-Null Count  Dtype  \n",
      "---  ------             --------------  -----  \n",
      " 0   Open               2347 non-null   float64\n",
      " 1   High               2347 non-null   float64\n",
      " 2   Low                2347 non-null   float64\n",
      " 3   Close              2347 non-null   float64\n",
      " 4   Volume             2347 non-null   float64\n",
      " 5   Adjustment Factor  11 non-null     float64\n",
      " 6   Adjustment Type    11 non-null     float64\n",
      "dtypes: float64(7)\n",
      "memory usage: 146.7 KB\n"
     ]
    }
   ],
   "source": [
    "df.info()"
   ]
  },
  {
   "cell_type": "code",
   "execution_count": 6,
   "metadata": {
    "colab": {
     "base_uri": "https://localhost:8080/",
     "height": 269
    },
    "colab_type": "code",
    "id": "vg8b1LUr9sv_",
    "outputId": "8625be01-2dc1-4eab-957f-7f940ff7668f"
   },
   "outputs": [
    {
     "name": "stdout",
     "output_type": "stream",
     "text": [
      "                  Open        High         Low       Close        Volume\n",
      "Date                                                                    \n",
      "2010-01-01   41.340778   41.340778   41.340778   41.340778  0.000000e+00\n",
      "2010-01-04   41.602855   41.992227   41.333290   41.834981  1.831902e+06\n",
      "2010-01-05   42.216864   42.419038   41.430633   41.752614  2.912826e+06\n",
      "2010-01-06   41.902372   43.699472   41.640295   43.549713  9.987828e+06\n",
      "2010-01-07   43.879182   44.328456   43.145366   43.452370  9.700044e+06\n",
      "...                ...         ...         ...         ...           ...\n",
      "2018-12-25  304.794218  304.794218  304.794218  304.794218  0.000000e+00\n",
      "2018-12-26  304.320122  307.913275  299.928490  306.765462  2.533238e+06\n",
      "2018-12-27  308.861468  309.909471  304.444884  305.143553  3.031426e+06\n",
      "2018-12-28  305.792316  311.206999  305.168505  309.809661  2.776504e+06\n",
      "2018-12-31  311.905668  315.299201  309.410422  313.926816  2.771364e+06\n",
      "\n",
      "[2347 rows x 5 columns]\n"
     ]
    }
   ],
   "source": [
    "x = df.drop(\"Adjustment Factor\",axis=1)\n",
    "y = x.drop(\"Adjustment Type\",axis=1)\n",
    "print(y)"
   ]
  },
  {
   "cell_type": "code",
   "execution_count": 7,
   "metadata": {
    "colab": {
     "base_uri": "https://localhost:8080/",
     "height": 134
    },
    "colab_type": "code",
    "id": "oEVOQz7U9syx",
    "outputId": "bff9719f-027d-4f4e-ea41-2c320fb14d32"
   },
   "outputs": [
    {
     "name": "stdout",
     "output_type": "stream",
     "text": [
      "                Close\n",
      "Date                 \n",
      "2010-01-01  41.340778\n",
      "2010-01-04  41.834981\n",
      "2010-01-05  41.752614\n",
      "2010-01-06  43.549713\n",
      "2010-01-07  43.452370\n"
     ]
    }
   ],
   "source": [
    "y = y[['Close']]\n",
    "print(y.head())"
   ]
  },
  {
   "cell_type": "code",
   "execution_count": 8,
   "metadata": {
    "colab": {
     "base_uri": "https://localhost:8080/",
     "height": 134
    },
    "colab_type": "code",
    "id": "_ZS1guAi9s1h",
    "outputId": "fbb95972-433c-4276-ff4f-8be6f6ee9ec6"
   },
   "outputs": [
    {
     "name": "stdout",
     "output_type": "stream",
     "text": [
      "                 Close  Prediction\n",
      "Date                              \n",
      "2018-12-25  304.794218         NaN\n",
      "2018-12-26  306.765462         NaN\n",
      "2018-12-27  305.143553         NaN\n",
      "2018-12-28  309.809661         NaN\n",
      "2018-12-31  313.926816         NaN\n"
     ]
    }
   ],
   "source": [
    "forecast = 10\n",
    "y['Prediction'] = y[['Close']].shift(-forecast)\n",
    "\n",
    "print(y.tail())"
   ]
  },
  {
   "cell_type": "code",
   "execution_count": 9,
   "metadata": {
    "colab": {
     "base_uri": "https://localhost:8080/",
     "height": 269
    },
    "colab_type": "code",
    "id": "bL7YD7ug9s4D",
    "outputId": "36b9b8b5-bb68-4cf6-811d-07d4d8568718"
   },
   "outputs": [
    {
     "name": "stdout",
     "output_type": "stream",
     "text": [
      "                 Close\n",
      "Date                  \n",
      "2010-01-01   41.340778\n",
      "2010-01-04   41.834981\n",
      "2010-01-05   41.752614\n",
      "2010-01-06   43.549713\n",
      "2010-01-07   43.452370\n",
      "...                ...\n",
      "2018-12-11  314.226246\n",
      "2018-12-12  318.767592\n",
      "2018-12-13  320.065120\n",
      "2018-12-14  323.358844\n",
      "2018-12-17  316.297299\n",
      "\n",
      "[2337 rows x 1 columns]\n"
     ]
    }
   ],
   "source": [
    "w = y.drop(['Prediction'],1)\n",
    "w = w[:-forecast]\n",
    "print(w)"
   ]
  },
  {
   "cell_type": "code",
   "execution_count": 10,
   "metadata": {
    "colab": {
     "base_uri": "https://localhost:8080/",
     "height": 235
    },
    "colab_type": "code",
    "id": "z-6ux0Gy9s7I",
    "outputId": "7109a341-7249-49d8-ffdb-62bd28f621af"
   },
   "outputs": [
    {
     "name": "stdout",
     "output_type": "stream",
     "text": [
      "Date\n",
      "2010-01-01     44.732804\n",
      "2010-01-04     43.811790\n",
      "2010-01-05     44.028940\n",
      "2010-01-06     43.781839\n",
      "2010-01-07     42.156961\n",
      "                 ...    \n",
      "2018-12-11    304.794218\n",
      "2018-12-12    306.765462\n",
      "2018-12-13    305.143553\n",
      "2018-12-14    309.809661\n",
      "2018-12-17    313.926816\n",
      "Name: Prediction, Length: 2337, dtype: float64\n"
     ]
    }
   ],
   "source": [
    "q=y['Prediction']\n",
    "q=q[:-forecast]\n",
    "print(q)"
   ]
  },
  {
   "cell_type": "code",
   "execution_count": 11,
   "metadata": {
    "colab": {},
    "colab_type": "code",
    "id": "67HGWOpV9s9k"
   },
   "outputs": [],
   "source": [
    "from sklearn.svm import SVR\n",
    "from sklearn.model_selection import train_test_split"
   ]
  },
  {
   "cell_type": "code",
   "execution_count": 12,
   "metadata": {
    "colab": {},
    "colab_type": "code",
    "id": "oNFLhKlP9tAR"
   },
   "outputs": [],
   "source": [
    "x_train,x_test,y_train,y_test = train_test_split(w,q,test_size =0.25)"
   ]
  },
  {
   "cell_type": "code",
   "execution_count": 13,
   "metadata": {
    "colab": {
     "base_uri": "https://localhost:8080/",
     "height": 50
    },
    "colab_type": "code",
    "id": "A2rrMB959tDJ",
    "outputId": "dbcf54b6-5cd6-444f-f6ad-7d486fcaa0ce"
   },
   "outputs": [
    {
     "data": {
      "text/plain": [
       "SVR(C=1000.0)"
      ]
     },
     "execution_count": 13,
     "metadata": {},
     "output_type": "execute_result"
    }
   ],
   "source": [
    "svr_rbf = SVR(kernel='rbf',C=1e3)\n",
    "svr_rbf.fit(x_train,y_train)"
   ]
  },
  {
   "cell_type": "code",
   "execution_count": 14,
   "metadata": {
    "colab": {
     "base_uri": "https://localhost:8080/",
     "height": 34
    },
    "colab_type": "code",
    "id": "pe6c77c_9tGB",
    "outputId": "7c25aa96-c81c-499a-adec-fdcdc93974f9"
   },
   "outputs": [
    {
     "name": "stdout",
     "output_type": "stream",
     "text": [
      "0.9929617175548695\n"
     ]
    }
   ],
   "source": [
    "svr_out = svr_rbf.score(x_test,y_test)\n",
    "print (svr_out)"
   ]
  },
  {
   "cell_type": "code",
   "execution_count": 15,
   "metadata": {
    "colab": {
     "base_uri": "https://localhost:8080/",
     "height": 218
    },
    "colab_type": "code",
    "id": "ulP9NQ2G9tJP",
    "outputId": "f9ba5f55-609a-457e-aedf-bd73c6fccd46"
   },
   "outputs": [
    {
     "name": "stdout",
     "output_type": "stream",
     "text": [
      "                 Close\n",
      "Date                  \n",
      "2018-12-18  318.817497\n",
      "2018-12-19  316.646634\n",
      "2018-12-20  318.193686\n",
      "2018-12-21  309.859566\n",
      "2018-12-24  304.794218\n",
      "2018-12-25  304.794218\n",
      "2018-12-26  306.765462\n",
      "2018-12-27  305.143553\n",
      "2018-12-28  309.809661\n",
      "2018-12-31  313.926816\n"
     ]
    }
   ],
   "source": [
    "x_forecast = y.drop(['Prediction'],1)[-forecast:]\n",
    "print(x_forecast)"
   ]
  },
  {
   "cell_type": "code",
   "execution_count": 16,
   "metadata": {
    "colab": {
     "base_uri": "https://localhost:8080/",
     "height": 50
    },
    "colab_type": "code",
    "id": "cqToqG619tL6",
    "outputId": "286bc3c9-7905-4128-9d19-c41965e00054"
   },
   "outputs": [
    {
     "name": "stdout",
     "output_type": "stream",
     "text": [
      "[313.74366056 313.67200552 313.74067454 312.37224505 310.4081857\n",
      " 310.4081857  311.26789199 310.56912358 312.35688397 313.34302971]\n"
     ]
    }
   ],
   "source": [
    "svr_prediction = svr_rbf.predict(x_forecast)\n",
    "print(svr_prediction)"
   ]
  },
  {
   "cell_type": "code",
   "execution_count": 17,
   "metadata": {
    "colab": {},
    "colab_type": "code",
    "id": "xzR1KwjO9tOj"
   },
   "outputs": [],
   "source": [
    "import matplotlib.pyplot as plt"
   ]
  },
  {
   "cell_type": "code",
   "execution_count": 18,
   "metadata": {
    "colab": {},
    "colab_type": "code",
    "id": "igZTM1BJ9tRu"
   },
   "outputs": [],
   "source": [
    "z = y['2018-11-30':]"
   ]
  },
  {
   "cell_type": "code",
   "execution_count": 19,
   "metadata": {
    "colab": {
     "base_uri": "https://localhost:8080/",
     "height": 513
    },
    "colab_type": "code",
    "id": "pg8Fkan-9tUi",
    "outputId": "46d05e65-7d9d-40d7-cc29-c96dc1870bd6"
   },
   "outputs": [
    {
     "data": {
      "image/png": "[encoded data removed]",
      "text/plain": [
       "<Figure size 1152x576 with 1 Axes>"
      ]
     },
     "metadata": {
      "needs_background": "light"
     },
     "output_type": "display_data"
    }
   ],
   "source": [
    "plt.figure(figsize=(16,8))\n",
    "plt.title('BIOCON')\n",
    "plt.xlabel('Days')\n",
    "plt.ylabel('Close Price INR')\n",
    "plt.plot(y['Close'])\n",
    "plt.show()"
   ]
  },
  {
   "cell_type": "code",
   "execution_count": 20,
   "metadata": {
    "colab": {
     "base_uri": "https://localhost:8080/",
     "height": 118
    },
    "colab_type": "code",
    "id": "xwNVa3eT9tXU",
    "outputId": "a1c505bc-4617-42da-d6a5-383170e1841f"
   },
   "outputs": [
    {
     "name": "stderr",
     "output_type": "stream",
     "text": [
      "<ipython-input-20-00284980cf73>:3: SettingWithCopyWarning: \n",
      "A value is trying to be set on a copy of a slice from a DataFrame.\n",
      "Try using .loc[row_indexer,col_indexer] = value instead\n",
      "\n",
      "See the caveats in the documentation: https://pandas.pydata.org/pandas-docs/stable/user_guide/indexing.html#returning-a-view-versus-a-copy\n",
      "  valid['Predict'] = predict\n"
     ]
    }
   ],
   "source": [
    "predict = svr_prediction\n",
    "valid = y[w.shape[0]:]\n",
    "valid['Predict'] = predict"
   ]
  },
  {
   "cell_type": "code",
   "execution_count": 21,
   "metadata": {
    "colab": {
     "base_uri": "https://localhost:8080/",
     "height": 513
    },
    "colab_type": "code",
    "id": "7WBW7Hcu9tas",
    "outputId": "0dbe98a9-4c63-4571-821a-f861af265e9a"
   },
   "outputs": [
    {
     "data": {
      "image/png": "[encoded data removed]",
      "text/plain": [
       "<Figure size 1152x576 with 1 Axes>"
      ]
     },
     "metadata": {
      "needs_background": "light"
     },
     "output_type": "display_data"
    }
   ],
   "source": [
    "plt.figure(figsize=(16,8))\n",
    "plt.title('BIOCON')\n",
    "plt.xlabel('Days')\n",
    "plt.ylabel('Close Price INR')\n",
    "plt.plot(z['Close'])\n",
    "plt.plot(valid[['Close','Predict']])\n",
    "plt.legend(['Orig','Val','Pred'])\n",
    "plt.show()"
   ]
  },
  {
   "cell_type": "code",
   "execution_count": 22,
   "metadata": {
    "colab": {},
    "colab_type": "code",
    "id": "pp1aAyLqOmGt"
   },
   "outputs": [],
   "source": [
    "import csv"
   ]
  },
  {
   "cell_type": "code",
   "execution_count": 24,
   "metadata": {
    "colab": {},
    "colab_type": "code",
    "id": "f05LneayPFk3"
   },
   "outputs": [],
   "source": [
    "with open('BIOCON.csv', 'w', newline='') as file:\n",
    "    writer = csv.writer(file)\n",
    "    writer.writerows(map(lambda x: [x],svr_prediction))"
   ]
  },
  {
   "cell_type": "code",
   "execution_count": null,
   "metadata": {
    "colab": {},
    "colab_type": "code",
    "id": "4BSTw_rTNxS-"
   },
   "outputs": [],
   "source": []
  }
 ],
 "metadata": {
  "colab": {
   "name": "BIOCON.ipynb",
   "provenance": []
  },
  "kernelspec": {
   "display_name": "Python 3",
   "language": "python",
   "name": "python3"
  },
  "language_info": {
   "codemirror_mode": {
    "name": "ipython",
    "version": 3
   },
   "file_extension": ".py",
   "mimetype": "text/x-python",
   "name": "python",
   "nbconvert_exporter": "python",
   "pygments_lexer": "ipython3",
   "version": "3.8.3"
  }
 },
 "nbformat": 4,
 "nbformat_minor": 1
}
